{
  "nbformat": 4,
  "nbformat_minor": 0,
  "metadata": {
    "colab": {
      "name": "LS_DS_Sprint1_AG.ipynb",
      "provenance": [],
      "collapsed_sections": []
    },
    "kernelspec": {
      "display_name": "Python 3",
      "language": "python",
      "name": "python3"
    },
    "language_info": {
      "codemirror_mode": {
        "name": "ipython",
        "version": 3
      },
      "file_extension": ".py",
      "mimetype": "text/x-python",
      "name": "python",
      "nbconvert_exporter": "python",
      "pygments_lexer": "ipython3",
      "version": "3.8.8"
    }
  },
  "cells": [
    {
      "cell_type": "markdown",
      "metadata": {
        "id": "RjeOCp1-ktmq"
      },
      "source": [
        "## Autograded Notebook (Canvas & CodeGrade)\n",
        "\n",
        "This notebook will be automatically graded. It is designed to test your answers and award points for the correct answers. Following the instructions for each Task carefully.\n",
        "\n",
        "### Instructions\n",
        "\n",
        "* **Download this notebook** as you would any other ipynb file\n",
        "* **Upload** to Google Colab or work locally (if you have that set-up)\n",
        "* **Delete `raise NotImplementedError()`**\n",
        "* Write your code in the `# YOUR CODE HERE` space\n",
        "* **Execute** the Test cells that contain `assert` statements - these help you check your work (others contain hidden tests that will be checked when you submit through Canvas)\n",
        "* **Save** your notebook when you are finished\n",
        "* **Download** as a `ipynb` file (if working in Colab)\n",
        "* **Upload** your complete notebook to Canvas (there will be additional instructions in Slack and/or Canvas)"
      ]
    },
    {
      "cell_type": "markdown",
      "metadata": {
        "id": "j4EFYnn4MixR"
      },
      "source": [
        "# Lambda School Data Science - Unit 1 Sprint 1\n",
        "\n",
        "## Sprint Challenge: Data Wrangling and Storytelling\n"
      ]
    },
    {
      "cell_type": "markdown",
      "metadata": {
        "id": "qSvL3CeTFk9F"
      },
      "source": [
        "## Use the following information to complete Tasks 1 - 12\n",
        "\n",
        "### Notebook points total: 12\n",
        "\n",
        "In this Sprint Challenge you will first \"wrangle\" some data from [Gapminder](https://www.gapminder.org/about-gapminder/), a Swedish non-profit co-founded by Hans Rosling. \"Gapminder produces free teaching resources making the world understandable based on reliable statistics.\"\n",
        "- [Cell phones (total), by country and year](https://raw.githubusercontent.com/open-numbers/ddf--gapminder--systema_globalis/master/countries-etc-datapoints/ddf--datapoints--cell_phones_total--by--geo--time.csv)\n",
        "- [Population (total), by country and year](https://raw.githubusercontent.com/open-numbers/ddf--gapminder--systema_globalis/master/countries-etc-datapoints/ddf--datapoints--population_total--by--geo--time.csv)\n",
        "- [Geo country codes](https://github.com/open-numbers/ddf--gapminder--systema_globalis/blob/master/ddf--entities--geo--country.csv)\n",
        "\n",
        "These two links have everything you need to successfully complete the first part of this sprint challenge.\n",
        "- [Pandas documentation: Working with Text Data](https://pandas.pydata.org/pandas-docs/stable/text.html) (one question)\n",
        "- [Pandas Cheat Sheet](https://github.com/pandas-dev/pandas/blob/master/doc/cheatsheet/Pandas_Cheat_Sheet.pdf) (everything else)\n"
      ]
    },
    {
      "cell_type": "markdown",
      "metadata": {
        "id": "0ZklksziMixS"
      },
      "source": [
        "**Task 1** - Load and print the cell phone data.  Pandas and numpy import statements have been included for you.\n",
        "\n",
        "* load your CSV file found at `cell_phones_url` into a DataFrame named `cell_phones`\n",
        "* print the top 5 records of `cell_phones`\n"
      ]
    },
    {
      "cell_type": "code",
      "metadata": {
        "deletable": false,
        "id": "FFO8QNJ7MixS",
        "nbgrader": {
          "cell_type": "code",
          "checksum": "1632d7e0d10fad859c18f7a2fd31b76d",
          "grade": false,
          "grade_id": "cell-6f16afb9d271f949",
          "locked": false,
          "schema_version": 3,
          "solution": true,
          "task": false
        },
        "colab": {
          "base_uri": "https://localhost:8080/",
          "height": 206
        },
        "outputId": "8c3e73fa-4ef0-4d75-a823-06483b307085"
      },
      "source": [
        "# Task 1\n",
        "\n",
        "# Imports \n",
        "import pandas as pd\n",
        "import numpy as np\n",
        "\n",
        "cell_phones_url = 'https://raw.githubusercontent.com/LambdaSchool/data-science-practice-datasets/main/unit_1/Cell__Phones/cell_phones.csv'\n",
        "\n",
        "# Load the dataframe and print the top 5 rows\n",
        "\n",
        "# YOUR CODE HERE\n",
        "cell_phones = pd.read_csv(cell_phones_url)\n",
        "\n",
        "cell_phones.head()"
      ],
      "execution_count": 1,
      "outputs": [
        {
          "output_type": "execute_result",
          "data": {
            "text/html": [
              "<div>\n",
              "<style scoped>\n",
              "    .dataframe tbody tr th:only-of-type {\n",
              "        vertical-align: middle;\n",
              "    }\n",
              "\n",
              "    .dataframe tbody tr th {\n",
              "        vertical-align: top;\n",
              "    }\n",
              "\n",
              "    .dataframe thead th {\n",
              "        text-align: right;\n",
              "    }\n",
              "</style>\n",
              "<table border=\"1\" class=\"dataframe\">\n",
              "  <thead>\n",
              "    <tr style=\"text-align: right;\">\n",
              "      <th></th>\n",
              "      <th>geo</th>\n",
              "      <th>time</th>\n",
              "      <th>cell_phones_total</th>\n",
              "    </tr>\n",
              "  </thead>\n",
              "  <tbody>\n",
              "    <tr>\n",
              "      <th>0</th>\n",
              "      <td>abw</td>\n",
              "      <td>1960</td>\n",
              "      <td>0.0</td>\n",
              "    </tr>\n",
              "    <tr>\n",
              "      <th>1</th>\n",
              "      <td>abw</td>\n",
              "      <td>1965</td>\n",
              "      <td>0.0</td>\n",
              "    </tr>\n",
              "    <tr>\n",
              "      <th>2</th>\n",
              "      <td>abw</td>\n",
              "      <td>1970</td>\n",
              "      <td>0.0</td>\n",
              "    </tr>\n",
              "    <tr>\n",
              "      <th>3</th>\n",
              "      <td>abw</td>\n",
              "      <td>1975</td>\n",
              "      <td>0.0</td>\n",
              "    </tr>\n",
              "    <tr>\n",
              "      <th>4</th>\n",
              "      <td>abw</td>\n",
              "      <td>1976</td>\n",
              "      <td>0.0</td>\n",
              "    </tr>\n",
              "  </tbody>\n",
              "</table>\n",
              "</div>"
            ],
            "text/plain": [
              "   geo  time  cell_phones_total\n",
              "0  abw  1960                0.0\n",
              "1  abw  1965                0.0\n",
              "2  abw  1970                0.0\n",
              "3  abw  1975                0.0\n",
              "4  abw  1976                0.0"
            ]
          },
          "metadata": {},
          "execution_count": 1
        }
      ]
    },
    {
      "cell_type": "markdown",
      "metadata": {
        "id": "ymCLkZMJMixT"
      },
      "source": [
        "**Task 1 Test**"
      ]
    },
    {
      "cell_type": "code",
      "metadata": {
        "deletable": false,
        "editable": false,
        "id": "btcEJXxCMixT",
        "nbgrader": {
          "cell_type": "code",
          "checksum": "cd3795c084d4d631eeff1d62b4cf1580",
          "grade": true,
          "grade_id": "cell-226f7bf8e9ea24f9",
          "locked": true,
          "points": 1,
          "schema_version": 3,
          "solution": false,
          "task": false
        }
      },
      "source": [
        "# Task 1 - Test\n",
        "\n",
        "assert isinstance(cell_phones, pd.DataFrame), 'Have you created a DataFrame named `cell_phones`?'\n",
        "assert len(cell_phones) == 9574\n"
      ],
      "execution_count": 2,
      "outputs": []
    },
    {
      "cell_type": "markdown",
      "metadata": {
        "id": "9YPW16tmT2J_"
      },
      "source": [
        "**Task 2** - Load and print the population data.  \n",
        "\n",
        "* load the CSV file found at `population_url` into a DataFrame named `population`\n",
        "* print the top 5 records of `population`\n"
      ]
    },
    {
      "cell_type": "code",
      "metadata": {
        "deletable": false,
        "id": "SNWpDAvyUYa2",
        "nbgrader": {
          "cell_type": "code",
          "checksum": "2eab1821adf0220c706ecf2382fcab3e",
          "grade": false,
          "grade_id": "cell-561c2d59728188a9",
          "locked": false,
          "schema_version": 3,
          "solution": true,
          "task": false
        },
        "colab": {
          "base_uri": "https://localhost:8080/",
          "height": 206
        },
        "outputId": "0f6f1329-b0a0-4e81-da8d-e8ac36158f85"
      },
      "source": [
        "# Task 2\n",
        "\n",
        "population_url = 'https://raw.githubusercontent.com/LambdaSchool/data-science-practice-datasets/main/unit_1/Population/population.csv'\n",
        "\n",
        "# Load the dataframe and print the first 5 records\n",
        "\n",
        "# YOUR CODE HERE\n",
        "population = pd.read_csv(population_url)\n",
        "\n",
        "population.head()"
      ],
      "execution_count": 3,
      "outputs": [
        {
          "output_type": "execute_result",
          "data": {
            "text/html": [
              "<div>\n",
              "<style scoped>\n",
              "    .dataframe tbody tr th:only-of-type {\n",
              "        vertical-align: middle;\n",
              "    }\n",
              "\n",
              "    .dataframe tbody tr th {\n",
              "        vertical-align: top;\n",
              "    }\n",
              "\n",
              "    .dataframe thead th {\n",
              "        text-align: right;\n",
              "    }\n",
              "</style>\n",
              "<table border=\"1\" class=\"dataframe\">\n",
              "  <thead>\n",
              "    <tr style=\"text-align: right;\">\n",
              "      <th></th>\n",
              "      <th>geo</th>\n",
              "      <th>time</th>\n",
              "      <th>population_total</th>\n",
              "    </tr>\n",
              "  </thead>\n",
              "  <tbody>\n",
              "    <tr>\n",
              "      <th>0</th>\n",
              "      <td>afg</td>\n",
              "      <td>1800</td>\n",
              "      <td>3280000</td>\n",
              "    </tr>\n",
              "    <tr>\n",
              "      <th>1</th>\n",
              "      <td>afg</td>\n",
              "      <td>1801</td>\n",
              "      <td>3280000</td>\n",
              "    </tr>\n",
              "    <tr>\n",
              "      <th>2</th>\n",
              "      <td>afg</td>\n",
              "      <td>1802</td>\n",
              "      <td>3280000</td>\n",
              "    </tr>\n",
              "    <tr>\n",
              "      <th>3</th>\n",
              "      <td>afg</td>\n",
              "      <td>1803</td>\n",
              "      <td>3280000</td>\n",
              "    </tr>\n",
              "    <tr>\n",
              "      <th>4</th>\n",
              "      <td>afg</td>\n",
              "      <td>1804</td>\n",
              "      <td>3280000</td>\n",
              "    </tr>\n",
              "  </tbody>\n",
              "</table>\n",
              "</div>"
            ],
            "text/plain": [
              "   geo  time  population_total\n",
              "0  afg  1800           3280000\n",
              "1  afg  1801           3280000\n",
              "2  afg  1802           3280000\n",
              "3  afg  1803           3280000\n",
              "4  afg  1804           3280000"
            ]
          },
          "metadata": {},
          "execution_count": 3
        }
      ]
    },
    {
      "cell_type": "markdown",
      "metadata": {
        "id": "RDOcC0FdVjIz"
      },
      "source": [
        "**Task 2 Test**"
      ]
    },
    {
      "cell_type": "code",
      "metadata": {
        "deletable": false,
        "editable": false,
        "id": "jcaZ5W5cVjI_",
        "nbgrader": {
          "cell_type": "code",
          "checksum": "2858e90cb4132ad3e6063660a7e38469",
          "grade": true,
          "grade_id": "cell-59d01cd695becd74",
          "locked": true,
          "points": 1,
          "schema_version": 3,
          "solution": false,
          "task": false
        }
      },
      "source": [
        "# Task 2 - Test\n",
        "\n",
        "assert isinstance(population, pd.DataFrame), 'Have you created a DataFrame named `population`?'\n",
        "assert len(population) == 59297\n"
      ],
      "execution_count": 4,
      "outputs": []
    },
    {
      "cell_type": "markdown",
      "metadata": {
        "id": "9acXXTiEV5uJ"
      },
      "source": [
        "**Task 3** - Load and print the geo country codes data.  \n",
        "\n",
        "* load the CSV file found at `geo_codes_url` into a DataFrame named `geo_codes`\n",
        "* print the top 5 records of `geo_codes`\n"
      ]
    },
    {
      "cell_type": "code",
      "metadata": {
        "deletable": false,
        "id": "Obm4p8WXV5uJ",
        "nbgrader": {
          "cell_type": "code",
          "checksum": "c6d583bee0966dc2f01f62c6086f3ed3",
          "grade": false,
          "grade_id": "cell-eb4d290384535503",
          "locked": false,
          "schema_version": 3,
          "solution": true,
          "task": false
        },
        "colab": {
          "base_uri": "https://localhost:8080/",
          "height": 243
        },
        "outputId": "ef7464ba-5bbc-470d-b193-c6d6129da1fd"
      },
      "source": [
        "# Task 3\n",
        "\n",
        "geo_codes_url = 'https://raw.githubusercontent.com/LambdaSchool/data-science-practice-datasets/main/unit_1/GEO_codes/geo_country_codes.csv'\n",
        "\n",
        "# Load the dataframe and print out the first 5 records\n",
        "\n",
        "# YOUR CODE HERE\n",
        "geo_codes = pd.read_csv(geo_codes_url)\n",
        "\n",
        "geo_codes.head()"
      ],
      "execution_count": 5,
      "outputs": [
        {
          "output_type": "execute_result",
          "data": {
            "text/html": [
              "<div>\n",
              "<style scoped>\n",
              "    .dataframe tbody tr th:only-of-type {\n",
              "        vertical-align: middle;\n",
              "    }\n",
              "\n",
              "    .dataframe tbody tr th {\n",
              "        vertical-align: top;\n",
              "    }\n",
              "\n",
              "    .dataframe thead th {\n",
              "        text-align: right;\n",
              "    }\n",
              "</style>\n",
              "<table border=\"1\" class=\"dataframe\">\n",
              "  <thead>\n",
              "    <tr style=\"text-align: right;\">\n",
              "      <th></th>\n",
              "      <th>geo</th>\n",
              "      <th>g77_and_oecd_countries</th>\n",
              "      <th>income_3groups</th>\n",
              "      <th>income_groups</th>\n",
              "      <th>is--country</th>\n",
              "      <th>iso3166_1_alpha2</th>\n",
              "      <th>iso3166_1_alpha3</th>\n",
              "      <th>iso3166_1_numeric</th>\n",
              "      <th>iso3166_2</th>\n",
              "      <th>landlocked</th>\n",
              "      <th>latitude</th>\n",
              "      <th>longitude</th>\n",
              "      <th>main_religion_2008</th>\n",
              "      <th>country</th>\n",
              "      <th>un_sdg_ldc</th>\n",
              "      <th>un_sdg_region</th>\n",
              "      <th>un_state</th>\n",
              "      <th>unicef_region</th>\n",
              "      <th>unicode_region_subtag</th>\n",
              "      <th>world_4region</th>\n",
              "      <th>world_6region</th>\n",
              "    </tr>\n",
              "  </thead>\n",
              "  <tbody>\n",
              "    <tr>\n",
              "      <th>0</th>\n",
              "      <td>abkh</td>\n",
              "      <td>others</td>\n",
              "      <td>NaN</td>\n",
              "      <td>NaN</td>\n",
              "      <td>True</td>\n",
              "      <td>NaN</td>\n",
              "      <td>NaN</td>\n",
              "      <td>NaN</td>\n",
              "      <td>NaN</td>\n",
              "      <td>NaN</td>\n",
              "      <td>NaN</td>\n",
              "      <td>NaN</td>\n",
              "      <td>NaN</td>\n",
              "      <td>Abkhazia</td>\n",
              "      <td>NaN</td>\n",
              "      <td>NaN</td>\n",
              "      <td>False</td>\n",
              "      <td>NaN</td>\n",
              "      <td>NaN</td>\n",
              "      <td>europe</td>\n",
              "      <td>europe_central_asia</td>\n",
              "    </tr>\n",
              "    <tr>\n",
              "      <th>1</th>\n",
              "      <td>abw</td>\n",
              "      <td>others</td>\n",
              "      <td>high_income</td>\n",
              "      <td>high_income</td>\n",
              "      <td>True</td>\n",
              "      <td>AW</td>\n",
              "      <td>ABW</td>\n",
              "      <td>533.0</td>\n",
              "      <td>NaN</td>\n",
              "      <td>coastline</td>\n",
              "      <td>12.50000</td>\n",
              "      <td>-69.96667</td>\n",
              "      <td>christian</td>\n",
              "      <td>Aruba</td>\n",
              "      <td>un_not_least_developed</td>\n",
              "      <td>un_latin_america_and_the_caribbean</td>\n",
              "      <td>False</td>\n",
              "      <td>NaN</td>\n",
              "      <td>AW</td>\n",
              "      <td>americas</td>\n",
              "      <td>america</td>\n",
              "    </tr>\n",
              "    <tr>\n",
              "      <th>2</th>\n",
              "      <td>afg</td>\n",
              "      <td>g77</td>\n",
              "      <td>low_income</td>\n",
              "      <td>low_income</td>\n",
              "      <td>True</td>\n",
              "      <td>AF</td>\n",
              "      <td>AFG</td>\n",
              "      <td>4.0</td>\n",
              "      <td>NaN</td>\n",
              "      <td>landlocked</td>\n",
              "      <td>33.00000</td>\n",
              "      <td>66.00000</td>\n",
              "      <td>muslim</td>\n",
              "      <td>Afghanistan</td>\n",
              "      <td>un_least_developed</td>\n",
              "      <td>un_central_and_southern_asia</td>\n",
              "      <td>True</td>\n",
              "      <td>sa</td>\n",
              "      <td>AF</td>\n",
              "      <td>asia</td>\n",
              "      <td>south_asia</td>\n",
              "    </tr>\n",
              "    <tr>\n",
              "      <th>3</th>\n",
              "      <td>ago</td>\n",
              "      <td>g77</td>\n",
              "      <td>middle_income</td>\n",
              "      <td>lower_middle_income</td>\n",
              "      <td>True</td>\n",
              "      <td>AO</td>\n",
              "      <td>AGO</td>\n",
              "      <td>24.0</td>\n",
              "      <td>NaN</td>\n",
              "      <td>coastline</td>\n",
              "      <td>-12.50000</td>\n",
              "      <td>18.50000</td>\n",
              "      <td>christian</td>\n",
              "      <td>Angola</td>\n",
              "      <td>un_least_developed</td>\n",
              "      <td>un_sub_saharan_africa</td>\n",
              "      <td>True</td>\n",
              "      <td>ssa</td>\n",
              "      <td>AO</td>\n",
              "      <td>africa</td>\n",
              "      <td>sub_saharan_africa</td>\n",
              "    </tr>\n",
              "    <tr>\n",
              "      <th>4</th>\n",
              "      <td>aia</td>\n",
              "      <td>others</td>\n",
              "      <td>NaN</td>\n",
              "      <td>NaN</td>\n",
              "      <td>True</td>\n",
              "      <td>AI</td>\n",
              "      <td>AIA</td>\n",
              "      <td>660.0</td>\n",
              "      <td>NaN</td>\n",
              "      <td>coastline</td>\n",
              "      <td>18.21667</td>\n",
              "      <td>-63.05000</td>\n",
              "      <td>christian</td>\n",
              "      <td>Anguilla</td>\n",
              "      <td>un_not_least_developed</td>\n",
              "      <td>un_latin_america_and_the_caribbean</td>\n",
              "      <td>False</td>\n",
              "      <td>NaN</td>\n",
              "      <td>AI</td>\n",
              "      <td>americas</td>\n",
              "      <td>america</td>\n",
              "    </tr>\n",
              "  </tbody>\n",
              "</table>\n",
              "</div>"
            ],
            "text/plain": [
              "    geo g77_and_oecd_countries  ... world_4region        world_6region\n",
              "0  abkh                 others  ...        europe  europe_central_asia\n",
              "1   abw                 others  ...      americas              america\n",
              "2   afg                    g77  ...          asia           south_asia\n",
              "3   ago                    g77  ...        africa   sub_saharan_africa\n",
              "4   aia                 others  ...      americas              america\n",
              "\n",
              "[5 rows x 21 columns]"
            ]
          },
          "metadata": {},
          "execution_count": 5
        }
      ]
    },
    {
      "cell_type": "markdown",
      "metadata": {
        "id": "_WR-4MbmV5uK"
      },
      "source": [
        "**Task 3 Test**"
      ]
    },
    {
      "cell_type": "code",
      "metadata": {
        "deletable": false,
        "editable": false,
        "id": "Z3Tza5NWV5uK",
        "nbgrader": {
          "cell_type": "code",
          "checksum": "78137b984fce2d85c696c65078dfd05d",
          "grade": true,
          "grade_id": "cell-39240405659c0c19",
          "locked": true,
          "points": 1,
          "schema_version": 3,
          "solution": false,
          "task": false
        }
      },
      "source": [
        "# Task 3 - Test\n",
        "\n",
        "assert geo_codes is not None, 'Have you created a DataFrame named `geo_codes`?'\n",
        "assert len(geo_codes) == 273\n"
      ],
      "execution_count": 6,
      "outputs": []
    },
    {
      "cell_type": "markdown",
      "metadata": {
        "id": "5DbACESjYxpV"
      },
      "source": [
        "**Task 4** - Check for missing values\n",
        "\n",
        "Let's check for missing values in each of these DataFrames: `cell_phones`, `population` and `geo_codes`\n",
        "\n",
        "* Check for missing values in the following DataFrames:\n",
        "    * assign the total number of missing values in `cell_phones` to the variable `cell_phones_missing`\n",
        "    * assign the total number of missing values in `population` to the variable `population_missing`\n",
        "    * assign the total number of missing values in `geo_codes` to the variable `geo_codes_missing` (Hint: you will need to do a sum of a sum here - `.sum().sum()`)"
      ]
    },
    {
      "cell_type": "code",
      "metadata": {
        "deletable": false,
        "id": "SwmSvUySJjXc",
        "nbgrader": {
          "cell_type": "code",
          "checksum": "b4ea8f9b909a45099743efb4879697c7",
          "grade": false,
          "grade_id": "cell-9426cd5765574e07",
          "locked": false,
          "schema_version": 3,
          "solution": true,
          "task": false
        }
      },
      "source": [
        "# Task 4\n",
        "\n",
        "# Check for missing data in each of the DataFrames\n",
        "\n",
        "# YOUR CODE HERE\n",
        "cell_phones_missing = cell_phones.isnull().sum().sum()\n",
        "population_missing = population.isnull().sum().sum()\n",
        "geo_codes_missing = geo_codes.isnull().sum().sum()"
      ],
      "execution_count": 7,
      "outputs": []
    },
    {
      "cell_type": "markdown",
      "metadata": {
        "id": "cREZV7g0aLGC"
      },
      "source": [
        "**Task 4 Test**"
      ]
    },
    {
      "cell_type": "code",
      "metadata": {
        "deletable": false,
        "editable": false,
        "id": "eaQwM15IaLGD",
        "nbgrader": {
          "cell_type": "code",
          "checksum": "e03a86fcc6bfd5f48fa501f9d29870e7",
          "grade": true,
          "grade_id": "cell-cf6ab3b4b1e8afc1",
          "locked": true,
          "points": 1,
          "schema_version": 3,
          "solution": false,
          "task": false
        }
      },
      "source": [
        "# Task 4 - Test\n",
        "\n",
        "if geo_codes_missing == 21: print('ERROR: Make sure to use a sum of a sum for the missing geo codes!')  \n",
        "\n",
        "# Hidden tests - you will see the results when you submit to Canvas"
      ],
      "execution_count": 8,
      "outputs": []
    },
    {
      "cell_type": "markdown",
      "metadata": {
        "id": "P54itLGveF5p"
      },
      "source": [
        "**Task 5** - Merge the `cell_phones` and `population` DataFrames.\n",
        "\n",
        "* Merge the `cell_phones` and `population` dataframes with an **inner** merge on both the `geo` and `time` columns.\n",
        "* Call the resulting dataframe `cell_phone_population`"
      ]
    },
    {
      "cell_type": "code",
      "metadata": {
        "deletable": false,
        "id": "KL_NCL7heF51",
        "nbgrader": {
          "cell_type": "code",
          "checksum": "01f359418133f448ed26182a8d16205f",
          "grade": false,
          "grade_id": "cell-decaebaa844aa3a5",
          "locked": false,
          "schema_version": 3,
          "solution": true,
          "task": false
        },
        "colab": {
          "base_uri": "https://localhost:8080/",
          "height": 206
        },
        "outputId": "a01fa23b-115c-4c6f-96c1-cf81e6ba7644"
      },
      "source": [
        "# Task 5\n",
        "\n",
        "# Merge the cell_phones and population dataframes\n",
        "\n",
        "# YOUR CODE HERE\n",
        "cell_phone_population = pd.merge(cell_phones,population)\n",
        "\n",
        "cell_phone_population.head()"
      ],
      "execution_count": 9,
      "outputs": [
        {
          "output_type": "execute_result",
          "data": {
            "text/html": [
              "<div>\n",
              "<style scoped>\n",
              "    .dataframe tbody tr th:only-of-type {\n",
              "        vertical-align: middle;\n",
              "    }\n",
              "\n",
              "    .dataframe tbody tr th {\n",
              "        vertical-align: top;\n",
              "    }\n",
              "\n",
              "    .dataframe thead th {\n",
              "        text-align: right;\n",
              "    }\n",
              "</style>\n",
              "<table border=\"1\" class=\"dataframe\">\n",
              "  <thead>\n",
              "    <tr style=\"text-align: right;\">\n",
              "      <th></th>\n",
              "      <th>geo</th>\n",
              "      <th>time</th>\n",
              "      <th>cell_phones_total</th>\n",
              "      <th>population_total</th>\n",
              "    </tr>\n",
              "  </thead>\n",
              "  <tbody>\n",
              "    <tr>\n",
              "      <th>0</th>\n",
              "      <td>afg</td>\n",
              "      <td>1960</td>\n",
              "      <td>0.0</td>\n",
              "      <td>8996967</td>\n",
              "    </tr>\n",
              "    <tr>\n",
              "      <th>1</th>\n",
              "      <td>afg</td>\n",
              "      <td>1965</td>\n",
              "      <td>0.0</td>\n",
              "      <td>9956318</td>\n",
              "    </tr>\n",
              "    <tr>\n",
              "      <th>2</th>\n",
              "      <td>afg</td>\n",
              "      <td>1970</td>\n",
              "      <td>0.0</td>\n",
              "      <td>11173654</td>\n",
              "    </tr>\n",
              "    <tr>\n",
              "      <th>3</th>\n",
              "      <td>afg</td>\n",
              "      <td>1975</td>\n",
              "      <td>0.0</td>\n",
              "      <td>12689164</td>\n",
              "    </tr>\n",
              "    <tr>\n",
              "      <th>4</th>\n",
              "      <td>afg</td>\n",
              "      <td>1976</td>\n",
              "      <td>0.0</td>\n",
              "      <td>12943093</td>\n",
              "    </tr>\n",
              "  </tbody>\n",
              "</table>\n",
              "</div>"
            ],
            "text/plain": [
              "   geo  time  cell_phones_total  population_total\n",
              "0  afg  1960                0.0           8996967\n",
              "1  afg  1965                0.0           9956318\n",
              "2  afg  1970                0.0          11173654\n",
              "3  afg  1975                0.0          12689164\n",
              "4  afg  1976                0.0          12943093"
            ]
          },
          "metadata": {},
          "execution_count": 9
        }
      ]
    },
    {
      "cell_type": "markdown",
      "metadata": {
        "id": "9vFSumbkfqr_"
      },
      "source": [
        "**Task 5 Test**"
      ]
    },
    {
      "cell_type": "code",
      "metadata": {
        "deletable": false,
        "editable": false,
        "id": "85-p_0UGfkZJ",
        "nbgrader": {
          "cell_type": "code",
          "checksum": "7a6362a6a1f740d69ce8dd46909a8f60",
          "grade": true,
          "grade_id": "cell-dd2473ea91f15f30",
          "locked": true,
          "points": 1,
          "schema_version": 3,
          "solution": false,
          "task": false
        }
      },
      "source": [
        "# Task 5 - Test\n",
        "\n",
        "assert cell_phone_population is not None, 'Have you merged created a DataFrame named cell_phone_population?'\n",
        "assert len(cell_phone_population) == 8930\n"
      ],
      "execution_count": 10,
      "outputs": []
    },
    {
      "cell_type": "markdown",
      "metadata": {
        "id": "oByYSkC7hB05"
      },
      "source": [
        "**Task 6** - Merge the `cell_phone_population` and `geo_codes` DataFrames\n",
        "\n",
        "* Merge the `cell_phone_population` and `geo_codes` DataFrames with an inner merge using the `geo` column.\n",
        "* **Only merge the `country` and `geo` columns from the `geo_codes` dataframe**\n",
        "* Call the resulting DataFrame `geo_cell_phone_population`\n"
      ]
    },
    {
      "cell_type": "code",
      "metadata": {
        "deletable": false,
        "id": "NcO8-JpQhB1F",
        "nbgrader": {
          "cell_type": "code",
          "checksum": "2ab46a540b8b1d7861195ae9d24c5c20",
          "grade": false,
          "grade_id": "cell-1ce5a2360ee6fd20",
          "locked": false,
          "schema_version": 3,
          "solution": true,
          "task": false
        }
      },
      "source": [
        "# Task 6\n",
        "\n",
        "# Merge the cell_phone_population and geo_codes dataframes\n",
        "# Only include the country and geo columns from geo_codes\n",
        "\n",
        "# YOUR CODE HERE\n",
        "geo_cell_phone_population = pd.merge(cell_phone_population,geo_codes[['geo','country']])"
      ],
      "execution_count": 11,
      "outputs": []
    },
    {
      "cell_type": "code",
      "metadata": {
        "colab": {
          "base_uri": "https://localhost:8080/",
          "height": 206
        },
        "id": "7qENMYdDktm6",
        "outputId": "ecd2fc91-8b8b-4f3c-b796-d26bb3ae5def"
      },
      "source": [
        "geo_cell_phone_population.head()"
      ],
      "execution_count": 12,
      "outputs": [
        {
          "output_type": "execute_result",
          "data": {
            "text/html": [
              "<div>\n",
              "<style scoped>\n",
              "    .dataframe tbody tr th:only-of-type {\n",
              "        vertical-align: middle;\n",
              "    }\n",
              "\n",
              "    .dataframe tbody tr th {\n",
              "        vertical-align: top;\n",
              "    }\n",
              "\n",
              "    .dataframe thead th {\n",
              "        text-align: right;\n",
              "    }\n",
              "</style>\n",
              "<table border=\"1\" class=\"dataframe\">\n",
              "  <thead>\n",
              "    <tr style=\"text-align: right;\">\n",
              "      <th></th>\n",
              "      <th>geo</th>\n",
              "      <th>time</th>\n",
              "      <th>cell_phones_total</th>\n",
              "      <th>population_total</th>\n",
              "      <th>country</th>\n",
              "    </tr>\n",
              "  </thead>\n",
              "  <tbody>\n",
              "    <tr>\n",
              "      <th>0</th>\n",
              "      <td>afg</td>\n",
              "      <td>1960</td>\n",
              "      <td>0.0</td>\n",
              "      <td>8996967</td>\n",
              "      <td>Afghanistan</td>\n",
              "    </tr>\n",
              "    <tr>\n",
              "      <th>1</th>\n",
              "      <td>afg</td>\n",
              "      <td>1965</td>\n",
              "      <td>0.0</td>\n",
              "      <td>9956318</td>\n",
              "      <td>Afghanistan</td>\n",
              "    </tr>\n",
              "    <tr>\n",
              "      <th>2</th>\n",
              "      <td>afg</td>\n",
              "      <td>1970</td>\n",
              "      <td>0.0</td>\n",
              "      <td>11173654</td>\n",
              "      <td>Afghanistan</td>\n",
              "    </tr>\n",
              "    <tr>\n",
              "      <th>3</th>\n",
              "      <td>afg</td>\n",
              "      <td>1975</td>\n",
              "      <td>0.0</td>\n",
              "      <td>12689164</td>\n",
              "      <td>Afghanistan</td>\n",
              "    </tr>\n",
              "    <tr>\n",
              "      <th>4</th>\n",
              "      <td>afg</td>\n",
              "      <td>1976</td>\n",
              "      <td>0.0</td>\n",
              "      <td>12943093</td>\n",
              "      <td>Afghanistan</td>\n",
              "    </tr>\n",
              "  </tbody>\n",
              "</table>\n",
              "</div>"
            ],
            "text/plain": [
              "   geo  time  cell_phones_total  population_total      country\n",
              "0  afg  1960                0.0           8996967  Afghanistan\n",
              "1  afg  1965                0.0           9956318  Afghanistan\n",
              "2  afg  1970                0.0          11173654  Afghanistan\n",
              "3  afg  1975                0.0          12689164  Afghanistan\n",
              "4  afg  1976                0.0          12943093  Afghanistan"
            ]
          },
          "metadata": {},
          "execution_count": 12
        }
      ]
    },
    {
      "cell_type": "markdown",
      "metadata": {
        "id": "zAKDLSV-hB1G"
      },
      "source": [
        "**Task 6 Test**"
      ]
    },
    {
      "cell_type": "code",
      "metadata": {
        "deletable": false,
        "editable": false,
        "id": "eQgHSsLihB1G",
        "nbgrader": {
          "cell_type": "code",
          "checksum": "adeec7312d967b89937e1487322747a5",
          "grade": true,
          "grade_id": "cell-764d5b72ae382339",
          "locked": true,
          "points": 1,
          "schema_version": 3,
          "solution": false,
          "task": false
        }
      },
      "source": [
        "# Task 6 - Test\n",
        "\n",
        "assert geo_cell_phone_population is not None, 'Have you created a DataFrame named geo_cell_phone_population?\n",
        "assert len(geo_cell_phone_population) == 8930\n"
      ],
      "execution_count": 13,
      "outputs": []
    },
    {
      "cell_type": "markdown",
      "metadata": {
        "id": "-CZF39BWivc2"
      },
      "source": [
        "**Task 7** - Calculate the number of cell phones per person.\n",
        "\n",
        "* Use the `cell_phones_total` and `population_total` columns to calculate the number of cell phones per person for each country.\n",
        "* Call this new feature (column) `phones_per_person` and add it to the `geo_cell_phone_population` DataFrame (you'll be adding the column to the DataFrame).\n"
      ]
    },
    {
      "cell_type": "code",
      "metadata": {
        "deletable": false,
        "id": "vBeXa3LTivdC",
        "nbgrader": {
          "cell_type": "code",
          "checksum": "196f7d476b4d811188e62e70b4d5a219",
          "grade": false,
          "grade_id": "cell-bd0bce2920604643",
          "locked": false,
          "schema_version": 3,
          "solution": true,
          "task": false
        },
        "colab": {
          "base_uri": "https://localhost:8080/",
          "height": 206
        },
        "outputId": "1ef44d31-8e3d-44fb-d8d2-137f4f32a785"
      },
      "source": [
        "# Task 7\n",
        "\n",
        "# Calculate the number of cell phones per person for each country and year.\n",
        "\n",
        "# YOUR CODE HERE\n",
        "geo_cell_phone_population['phones_per_person'] = geo_cell_phone_population['cell_phones_total']/geo_cell_phone_population['population_total'] \n",
        "\n",
        "geo_cell_phone_population.tail()"
      ],
      "execution_count": 14,
      "outputs": [
        {
          "output_type": "execute_result",
          "data": {
            "text/html": [
              "<div>\n",
              "<style scoped>\n",
              "    .dataframe tbody tr th:only-of-type {\n",
              "        vertical-align: middle;\n",
              "    }\n",
              "\n",
              "    .dataframe tbody tr th {\n",
              "        vertical-align: top;\n",
              "    }\n",
              "\n",
              "    .dataframe thead th {\n",
              "        text-align: right;\n",
              "    }\n",
              "</style>\n",
              "<table border=\"1\" class=\"dataframe\">\n",
              "  <thead>\n",
              "    <tr style=\"text-align: right;\">\n",
              "      <th></th>\n",
              "      <th>geo</th>\n",
              "      <th>time</th>\n",
              "      <th>cell_phones_total</th>\n",
              "      <th>population_total</th>\n",
              "      <th>country</th>\n",
              "      <th>phones_per_person</th>\n",
              "    </tr>\n",
              "  </thead>\n",
              "  <tbody>\n",
              "    <tr>\n",
              "      <th>8925</th>\n",
              "      <td>zwe</td>\n",
              "      <td>2015</td>\n",
              "      <td>12757410.0</td>\n",
              "      <td>13814642</td>\n",
              "      <td>Zimbabwe</td>\n",
              "      <td>0.923470</td>\n",
              "    </tr>\n",
              "    <tr>\n",
              "      <th>8926</th>\n",
              "      <td>zwe</td>\n",
              "      <td>2016</td>\n",
              "      <td>12878926.0</td>\n",
              "      <td>14030338</td>\n",
              "      <td>Zimbabwe</td>\n",
              "      <td>0.917934</td>\n",
              "    </tr>\n",
              "    <tr>\n",
              "      <th>8927</th>\n",
              "      <td>zwe</td>\n",
              "      <td>2017</td>\n",
              "      <td>14092104.0</td>\n",
              "      <td>14236599</td>\n",
              "      <td>Zimbabwe</td>\n",
              "      <td>0.989850</td>\n",
              "    </tr>\n",
              "    <tr>\n",
              "      <th>8928</th>\n",
              "      <td>zwe</td>\n",
              "      <td>2018</td>\n",
              "      <td>12908992.0</td>\n",
              "      <td>14438812</td>\n",
              "      <td>Zimbabwe</td>\n",
              "      <td>0.894048</td>\n",
              "    </tr>\n",
              "    <tr>\n",
              "      <th>8929</th>\n",
              "      <td>zwe</td>\n",
              "      <td>2019</td>\n",
              "      <td>13195902.0</td>\n",
              "      <td>14645473</td>\n",
              "      <td>Zimbabwe</td>\n",
              "      <td>0.901023</td>\n",
              "    </tr>\n",
              "  </tbody>\n",
              "</table>\n",
              "</div>"
            ],
            "text/plain": [
              "      geo  time  ...   country  phones_per_person\n",
              "8925  zwe  2015  ...  Zimbabwe           0.923470\n",
              "8926  zwe  2016  ...  Zimbabwe           0.917934\n",
              "8927  zwe  2017  ...  Zimbabwe           0.989850\n",
              "8928  zwe  2018  ...  Zimbabwe           0.894048\n",
              "8929  zwe  2019  ...  Zimbabwe           0.901023\n",
              "\n",
              "[5 rows x 6 columns]"
            ]
          },
          "metadata": {},
          "execution_count": 14
        }
      ]
    },
    {
      "cell_type": "markdown",
      "metadata": {
        "id": "4IiDB6f6ivdD"
      },
      "source": [
        "**Task 7 Test**"
      ]
    },
    {
      "cell_type": "code",
      "metadata": {
        "deletable": false,
        "editable": false,
        "id": "L3UgjCfFivdD",
        "nbgrader": {
          "cell_type": "code",
          "checksum": "69eda2b0addf7a8ecc742810ad988bc4",
          "grade": true,
          "grade_id": "cell-45c955c43e471400",
          "locked": true,
          "points": 1,
          "schema_version": 3,
          "solution": false,
          "task": false
        }
      },
      "source": [
        "# Task 7 - Test\n",
        "\n",
        "# Hidden tests - you will see the results when you submit to Canvas"
      ],
      "execution_count": 15,
      "outputs": []
    },
    {
      "cell_type": "markdown",
      "metadata": {
        "id": "b_CZNPZAlw71"
      },
      "source": [
        "**Task 8** - Identify the number of cell phones per person in the US in 2017\n",
        "\n",
        "* Write a line of code that will create a one-row subset of `geo_cell_phone_population` with data on cell phone ownership in the USA for the year 2017.\n",
        "* Call this subset DataFrame `US_2017`.\n",
        "* Print `US_2017`."
      ]
    },
    {
      "cell_type": "code",
      "metadata": {
        "deletable": false,
        "id": "Y0hRRvc1lw8B",
        "nbgrader": {
          "cell_type": "code",
          "checksum": "06541bfb6f35fd09043f837647a57085",
          "grade": false,
          "grade_id": "cell-665e83d11e594d90",
          "locked": false,
          "schema_version": 3,
          "solution": true,
          "task": false
        },
        "colab": {
          "base_uri": "https://localhost:8080/",
          "height": 81
        },
        "outputId": "cb7bf201-c994-4def-fd88-98e127110a4e"
      },
      "source": [
        "# Task 8\n",
        "\n",
        "# Determine the number of cell phones per person in the US in 2017\n",
        "\n",
        "# YOUR CODE HERE\n",
        "US_2017 = geo_cell_phone_population.loc[(geo_cell_phone_population['country']=='United States') & (geo_cell_phone_population['time']==2017)]\n",
        "\n",
        "# View the DataFrame\n",
        "US_2017"
      ],
      "execution_count": 16,
      "outputs": [
        {
          "output_type": "execute_result",
          "data": {
            "text/html": [
              "<div>\n",
              "<style scoped>\n",
              "    .dataframe tbody tr th:only-of-type {\n",
              "        vertical-align: middle;\n",
              "    }\n",
              "\n",
              "    .dataframe tbody tr th {\n",
              "        vertical-align: top;\n",
              "    }\n",
              "\n",
              "    .dataframe thead th {\n",
              "        text-align: right;\n",
              "    }\n",
              "</style>\n",
              "<table border=\"1\" class=\"dataframe\">\n",
              "  <thead>\n",
              "    <tr style=\"text-align: right;\">\n",
              "      <th></th>\n",
              "      <th>geo</th>\n",
              "      <th>time</th>\n",
              "      <th>cell_phones_total</th>\n",
              "      <th>population_total</th>\n",
              "      <th>country</th>\n",
              "      <th>phones_per_person</th>\n",
              "    </tr>\n",
              "  </thead>\n",
              "  <tbody>\n",
              "    <tr>\n",
              "      <th>8455</th>\n",
              "      <td>usa</td>\n",
              "      <td>2017</td>\n",
              "      <td>400000000.0</td>\n",
              "      <td>325084758</td>\n",
              "      <td>United States</td>\n",
              "      <td>1.230448</td>\n",
              "    </tr>\n",
              "  </tbody>\n",
              "</table>\n",
              "</div>"
            ],
            "text/plain": [
              "      geo  time  ...        country  phones_per_person\n",
              "8455  usa  2017  ...  United States           1.230448\n",
              "\n",
              "[1 rows x 6 columns]"
            ]
          },
          "metadata": {},
          "execution_count": 16
        }
      ]
    },
    {
      "cell_type": "markdown",
      "metadata": {
        "id": "mIDryQfKlw8C"
      },
      "source": [
        "**Task 8 Test**"
      ]
    },
    {
      "cell_type": "code",
      "metadata": {
        "deletable": false,
        "editable": false,
        "id": "wL0MypzFlw8C",
        "nbgrader": {
          "cell_type": "code",
          "checksum": "85364b4d30569406247e2c40cbd3b5ba",
          "grade": true,
          "grade_id": "cell-ea08fdda80cf9731",
          "locked": true,
          "points": 1,
          "schema_version": 3,
          "solution": false,
          "task": false
        }
      },
      "source": [
        "# Task 8 - Test\n",
        "\n",
        "# Hidden tests - you will see the results when you submit to Canvas"
      ],
      "execution_count": 17,
      "outputs": []
    },
    {
      "cell_type": "markdown",
      "metadata": {
        "id": "HTl_zamAtfJa"
      },
      "source": [
        "**Task 9** - Describe the numeric variables in `geo_cell_phone_population`\n",
        "\n",
        "* Calculate the summary statistics for the quantitative variables in `geo_cell_phone_population` using `.describe()`.\n",
        "* Find the mean value for `phones_per_person` and assign it to the variable `mean_phones`. Define your value out to two decimal points.\n"
      ]
    },
    {
      "cell_type": "code",
      "metadata": {
        "deletable": false,
        "id": "HGKKIqAktfJn",
        "nbgrader": {
          "cell_type": "code",
          "checksum": "b96997337122d55fdcad18d453ee61fe",
          "grade": false,
          "grade_id": "cell-181c9805c52dfda8",
          "locked": false,
          "schema_version": 3,
          "solution": true,
          "task": false
        },
        "colab": {
          "base_uri": "https://localhost:8080/"
        },
        "outputId": "dbe48293-c71c-42a6-d738-89ebcc0eca66"
      },
      "source": [
        "# Task 9\n",
        "\n",
        "# Calculate the summary statistics for the quantitative variables in geo_cell_phone_population using .describe()\n",
        "\n",
        "# YOUR CODE HERE\n",
        "mean_phones = geo_cell_phone_population.describe()['phones_per_person'][1]\n",
        "\n",
        "mean_phones = round(mean_phones,2)\n",
        "\n",
        "mean_phones"
      ],
      "execution_count": 18,
      "outputs": [
        {
          "output_type": "execute_result",
          "data": {
            "text/plain": [
              "0.31"
            ]
          },
          "metadata": {},
          "execution_count": 18
        }
      ]
    },
    {
      "cell_type": "markdown",
      "metadata": {
        "id": "4Nh0qP1ptfJn"
      },
      "source": [
        "**Task 9 Test**"
      ]
    },
    {
      "cell_type": "code",
      "metadata": {
        "deletable": false,
        "editable": false,
        "id": "cBZg6p1VtfJo",
        "nbgrader": {
          "cell_type": "code",
          "checksum": "a3b4089cf090bbb63a13a6ec44e93cf4",
          "grade": true,
          "grade_id": "cell-0a0cfb1ac7acc279",
          "locked": true,
          "points": 1,
          "schema_version": 3,
          "solution": false,
          "task": false
        }
      },
      "source": [
        "# Task 9 - Test\n",
        "\n",
        "# Hidden tests - you will see the results when you submit to Canvas"
      ],
      "execution_count": 19,
      "outputs": []
    },
    {
      "cell_type": "markdown",
      "metadata": {
        "id": "fD4X6uNlvI6-"
      },
      "source": [
        "**Task 10** - Describe the categorical variables in `geo_cell_phone_population`\n",
        "\n",
        "* Calculate the summary statistics for the categorical variables in `geo_cell_phone_population` using `.describe(exclude='number')`.\n",
        "* Using these results, find the number of unique countries and assign it to the variable `unique_country`. Your value should be an integer."
      ]
    },
    {
      "cell_type": "code",
      "metadata": {
        "deletable": false,
        "id": "b52UT_HnvI7B",
        "nbgrader": {
          "cell_type": "code",
          "checksum": "2cd375c31946ee834750d93dfc49f568",
          "grade": false,
          "grade_id": "cell-07de5adb6a8b43bf",
          "locked": false,
          "schema_version": 3,
          "solution": true,
          "task": false
        }
      },
      "source": [
        "# Task 10\n",
        "\n",
        "# Calculate the summary statistics in geo_cell_phone_population using .describe(exclude='number')\n",
        "\n",
        "# YOUR CODE HERE\n",
        "unique_country = geo_cell_phone_population.describe(exclude='number')['country'][1]"
      ],
      "execution_count": 20,
      "outputs": []
    },
    {
      "cell_type": "markdown",
      "metadata": {
        "id": "OYqdBExNvI7C"
      },
      "source": [
        "**Task 10 Test**"
      ]
    },
    {
      "cell_type": "code",
      "metadata": {
        "deletable": false,
        "editable": false,
        "id": "Ul1sia9IvI7C",
        "nbgrader": {
          "cell_type": "code",
          "checksum": "b93a82914cb93f4cd174af721883200e",
          "grade": true,
          "grade_id": "cell-7672dd0b5f927ce7",
          "locked": true,
          "points": 1,
          "schema_version": 3,
          "solution": false,
          "task": false
        }
      },
      "source": [
        "# Task 10 - Test\n",
        "\n",
        "# Hidden tests - you will see the results when you submit to Canvas"
      ],
      "execution_count": 21,
      "outputs": []
    },
    {
      "cell_type": "markdown",
      "metadata": {
        "id": "wBQCMGrkw69w"
      },
      "source": [
        "**Task 11** - Subset the DataFrame for 2017\n",
        "\n",
        "* Create a new dataframe called `df2017` that includes **only** records from `geo_cell_phone_population` that ocurred in 2017."
      ]
    },
    {
      "cell_type": "code",
      "metadata": {
        "deletable": false,
        "id": "_EKPYqW-w698",
        "nbgrader": {
          "cell_type": "code",
          "checksum": "0dbed80e18dc222395c342df229fb3ac",
          "grade": false,
          "grade_id": "cell-f3fa17e15b5174ac",
          "locked": false,
          "schema_version": 3,
          "solution": true,
          "task": false
        }
      },
      "source": [
        "# Task 11\n",
        "\n",
        "# Create a new dataframe called df2017 that includes only records from geo_cell_phone_population that ocurred in 2017.\n",
        "\n",
        "# YOUR CODE HERE\n",
        "df2017 = geo_cell_phone_population.loc[geo_cell_phone_population['time'] == 2017]\n",
        "\n",
        "        "
      ],
      "execution_count": 22,
      "outputs": []
    },
    {
      "cell_type": "markdown",
      "metadata": {
        "id": "QuLy4qwrw698"
      },
      "source": [
        "**Task 11 Test**"
      ]
    },
    {
      "cell_type": "code",
      "metadata": {
        "deletable": false,
        "editable": false,
        "id": "S0rU2pGWw698",
        "nbgrader": {
          "cell_type": "code",
          "checksum": "ef103ab0c8b09e083e94acbbb82229f6",
          "grade": true,
          "grade_id": "cell-b19a6956b5dddadb",
          "locked": true,
          "points": 1,
          "schema_version": 3,
          "solution": false,
          "task": false
        }
      },
      "source": [
        "# Task 11 - Test\n",
        "\n",
        "# Hidden tests - you will see the results when you submit to Canvas"
      ],
      "execution_count": 23,
      "outputs": []
    },
    {
      "cell_type": "markdown",
      "metadata": {
        "id": "Rww_2EpHyd4K"
      },
      "source": [
        "**Task 12** - Identify the five countries with the most cell phones per person in 2017\n",
        "\n",
        "* Sort the `df2017` DataFrame by `phones_per_person` in descending order and assign the result to `df2017_top`. Your new DataFrame should only have **five** rows (Hint: use `.head()` to return only five rows).\n",
        "* Print the first 5 records of `df2017_top`."
      ]
    },
    {
      "cell_type": "code",
      "metadata": {
        "deletable": false,
        "id": "h6ym9Dwhyd4V",
        "nbgrader": {
          "cell_type": "code",
          "checksum": "e6a3dfe114beb003bf29f8bfb6aadbb7",
          "grade": false,
          "grade_id": "cell-c9b701bfe897edf5",
          "locked": false,
          "schema_version": 3,
          "solution": true,
          "task": false
        },
        "colab": {
          "base_uri": "https://localhost:8080/",
          "height": 206
        },
        "outputId": "f40012cb-5222-4446-f80c-69ca301ff8d7"
      },
      "source": [
        "# Task 12\n",
        "\n",
        "# Sort the df2017 dataframe by phones_per_person in descending order\n",
        "# Return only five (5) rows\n",
        "\n",
        "# YOUR CODE HERE\n",
        "df2017_sorted = df2017.sort_values(by='phones_per_person', ascending=False)\n",
        "\n",
        "# View the df2017_top DataFrame\n",
        "df2017_top = df2017_sorted.head()\n",
        "\n",
        "df2017_top"
      ],
      "execution_count": 24,
      "outputs": [
        {
          "output_type": "execute_result",
          "data": {
            "text/html": [
              "<div>\n",
              "<style scoped>\n",
              "    .dataframe tbody tr th:only-of-type {\n",
              "        vertical-align: middle;\n",
              "    }\n",
              "\n",
              "    .dataframe tbody tr th {\n",
              "        vertical-align: top;\n",
              "    }\n",
              "\n",
              "    .dataframe thead th {\n",
              "        text-align: right;\n",
              "    }\n",
              "</style>\n",
              "<table border=\"1\" class=\"dataframe\">\n",
              "  <thead>\n",
              "    <tr style=\"text-align: right;\">\n",
              "      <th></th>\n",
              "      <th>geo</th>\n",
              "      <th>time</th>\n",
              "      <th>cell_phones_total</th>\n",
              "      <th>population_total</th>\n",
              "      <th>country</th>\n",
              "      <th>phones_per_person</th>\n",
              "    </tr>\n",
              "  </thead>\n",
              "  <tbody>\n",
              "    <tr>\n",
              "      <th>3448</th>\n",
              "      <td>hkg</td>\n",
              "      <td>2017</td>\n",
              "      <td>18394762.0</td>\n",
              "      <td>7306315</td>\n",
              "      <td>Hong Kong, China</td>\n",
              "      <td>2.517652</td>\n",
              "    </tr>\n",
              "    <tr>\n",
              "      <th>227</th>\n",
              "      <td>are</td>\n",
              "      <td>2017</td>\n",
              "      <td>19826224.0</td>\n",
              "      <td>9487206</td>\n",
              "      <td>United Arab Emirates</td>\n",
              "      <td>2.089785</td>\n",
              "    </tr>\n",
              "    <tr>\n",
              "      <th>365</th>\n",
              "      <td>atg</td>\n",
              "      <td>2017</td>\n",
              "      <td>184000.0</td>\n",
              "      <td>95425</td>\n",
              "      <td>Antigua and Barbuda</td>\n",
              "      <td>1.928216</td>\n",
              "    </tr>\n",
              "    <tr>\n",
              "      <th>5253</th>\n",
              "      <td>mdv</td>\n",
              "      <td>2017</td>\n",
              "      <td>900120.0</td>\n",
              "      <td>496398</td>\n",
              "      <td>Maldives</td>\n",
              "      <td>1.813303</td>\n",
              "    </tr>\n",
              "    <tr>\n",
              "      <th>1937</th>\n",
              "      <td>cri</td>\n",
              "      <td>2017</td>\n",
              "      <td>8840342.0</td>\n",
              "      <td>4949955</td>\n",
              "      <td>Costa Rica</td>\n",
              "      <td>1.785944</td>\n",
              "    </tr>\n",
              "  </tbody>\n",
              "</table>\n",
              "</div>"
            ],
            "text/plain": [
              "      geo  time  ...               country  phones_per_person\n",
              "3448  hkg  2017  ...      Hong Kong, China           2.517652\n",
              "227   are  2017  ...  United Arab Emirates           2.089785\n",
              "365   atg  2017  ...   Antigua and Barbuda           1.928216\n",
              "5253  mdv  2017  ...              Maldives           1.813303\n",
              "1937  cri  2017  ...            Costa Rica           1.785944\n",
              "\n",
              "[5 rows x 6 columns]"
            ]
          },
          "metadata": {},
          "execution_count": 24
        }
      ]
    },
    {
      "cell_type": "markdown",
      "metadata": {
        "id": "7WBox_Axyd4W"
      },
      "source": [
        "**Task 12 Test**"
      ]
    },
    {
      "cell_type": "code",
      "metadata": {
        "deletable": false,
        "editable": false,
        "id": "ePj-a6rLyd4W",
        "nbgrader": {
          "cell_type": "code",
          "checksum": "09132f37bbdc979478f298515ecb055d",
          "grade": true,
          "grade_id": "cell-5f6fffc9db1b9492",
          "locked": true,
          "points": 1,
          "schema_version": 3,
          "solution": false,
          "task": false
        }
      },
      "source": [
        "# Task 12 - Test\n",
        "\n",
        "assert df2017_top.shape == (5,6), 'Make sure you return only five rows'\n"
      ],
      "execution_count": 25,
      "outputs": []
    },
    {
      "cell_type": "markdown",
      "metadata": {
        "id": "UthoeNABLwau"
      },
      "source": [
        "**Task 13** - Explain why the figure below **cannot** be graphed as a pie chart.\n"
      ]
    },
    {
      "cell_type": "code",
      "metadata": {
        "id": "oy9dt9l6Lz18",
        "colab": {
          "base_uri": "https://localhost:8080/",
          "height": 787
        },
        "outputId": "ea39338a-58bd-4c5c-e6d3-564968dfbad2"
      },
      "source": [
        "from IPython.display import display, Image\n",
        "png = 'https://fivethirtyeight.com/wp-content/uploads/2014/04/hickey-ross-tags-1.png'\n",
        "example = Image(png, width=500)\n",
        "display(example)"
      ],
      "execution_count": 26,
      "outputs": [
        {
          "output_type": "display_data",
          "data": {
            "image/png": "[encoded data removed]",
            "text/plain": [
              "<IPython.core.display.Image object>"
            ]
          },
          "metadata": {
            "image/png": {
              "width": 500
            }
          }
        }
      ]
    },
    {
      "cell_type": "markdown",
      "metadata": {
        "id": "SOlPMhhS1t_I"
      },
      "source": [
        "**Task 13 Question** - Explain why the figure cannot be graphed as a pie chart.\n",
        "\n",
        "*This task will not be autograded - but it is part of completing the challenge.*\n",
        "\n",
        "YOUR ANSWER HERE\n",
        "\n",
        "<font color='purple'>**Even though Pie Charts are made to graph categorical \\\n",
        "data we shouldn't use it because it would make too difficult \\\n",
        "to compare size between categories in this case.**</font>\n",
        "\n"
      ]
    },
    {
      "cell_type": "markdown",
      "metadata": {
        "id": "bTBRunPy26LB"
      },
      "source": [
        "**Task 14** - Titanic dataset\n",
        "\n",
        "Use the following Titanic DataFrame to complete Task 14 - execute the cell to load the dataset."
      ]
    },
    {
      "cell_type": "code",
      "metadata": {
        "id": "ACKJZknZFG6y",
        "colab": {
          "base_uri": "https://localhost:8080/",
          "height": 206
        },
        "outputId": "94c8b884-eaf1-47c4-8380-754699deb34b"
      },
      "source": [
        "# Load the Titanic dataset from its URL:\n",
        "Titanic = pd.read_csv('https://raw.githubusercontent.com/LambdaSchool/data-science-practice-datasets/main/unit_1/Titanic/Titanic.csv')\n",
        "\n",
        "Titanic.head()"
      ],
      "execution_count": 27,
      "outputs": [
        {
          "output_type": "execute_result",
          "data": {
            "text/html": [
              "<div>\n",
              "<style scoped>\n",
              "    .dataframe tbody tr th:only-of-type {\n",
              "        vertical-align: middle;\n",
              "    }\n",
              "\n",
              "    .dataframe tbody tr th {\n",
              "        vertical-align: top;\n",
              "    }\n",
              "\n",
              "    .dataframe thead th {\n",
              "        text-align: right;\n",
              "    }\n",
              "</style>\n",
              "<table border=\"1\" class=\"dataframe\">\n",
              "  <thead>\n",
              "    <tr style=\"text-align: right;\">\n",
              "      <th></th>\n",
              "      <th>Survived</th>\n",
              "      <th>Pclass</th>\n",
              "      <th>Name</th>\n",
              "      <th>Sex</th>\n",
              "      <th>Age</th>\n",
              "      <th>Siblings/Spouses_Aboard</th>\n",
              "      <th>Parents/Children_Aboard</th>\n",
              "      <th>Fare</th>\n",
              "    </tr>\n",
              "  </thead>\n",
              "  <tbody>\n",
              "    <tr>\n",
              "      <th>0</th>\n",
              "      <td>0</td>\n",
              "      <td>3</td>\n",
              "      <td>Mr. Owen Harris Braund</td>\n",
              "      <td>male</td>\n",
              "      <td>22.0</td>\n",
              "      <td>1</td>\n",
              "      <td>0</td>\n",
              "      <td>7.2500</td>\n",
              "    </tr>\n",
              "    <tr>\n",
              "      <th>1</th>\n",
              "      <td>1</td>\n",
              "      <td>1</td>\n",
              "      <td>Mrs. John Bradley (Florence Briggs Thayer) Cum...</td>\n",
              "      <td>female</td>\n",
              "      <td>38.0</td>\n",
              "      <td>1</td>\n",
              "      <td>0</td>\n",
              "      <td>71.2833</td>\n",
              "    </tr>\n",
              "    <tr>\n",
              "      <th>2</th>\n",
              "      <td>1</td>\n",
              "      <td>3</td>\n",
              "      <td>Miss. Laina Heikkinen</td>\n",
              "      <td>female</td>\n",
              "      <td>26.0</td>\n",
              "      <td>0</td>\n",
              "      <td>0</td>\n",
              "      <td>7.9250</td>\n",
              "    </tr>\n",
              "    <tr>\n",
              "      <th>3</th>\n",
              "      <td>1</td>\n",
              "      <td>1</td>\n",
              "      <td>Mrs. Jacques Heath (Lily May Peel) Futrelle</td>\n",
              "      <td>female</td>\n",
              "      <td>35.0</td>\n",
              "      <td>1</td>\n",
              "      <td>0</td>\n",
              "      <td>53.1000</td>\n",
              "    </tr>\n",
              "    <tr>\n",
              "      <th>4</th>\n",
              "      <td>0</td>\n",
              "      <td>3</td>\n",
              "      <td>Mr. William Henry Allen</td>\n",
              "      <td>male</td>\n",
              "      <td>35.0</td>\n",
              "      <td>0</td>\n",
              "      <td>0</td>\n",
              "      <td>8.0500</td>\n",
              "    </tr>\n",
              "  </tbody>\n",
              "</table>\n",
              "</div>"
            ],
            "text/plain": [
              "   Survived  Pclass  ... Parents/Children_Aboard     Fare\n",
              "0         0       3  ...                       0   7.2500\n",
              "1         1       1  ...                       0  71.2833\n",
              "2         1       3  ...                       0   7.9250\n",
              "3         1       1  ...                       0  53.1000\n",
              "4         0       3  ...                       0   8.0500\n",
              "\n",
              "[5 rows x 8 columns]"
            ]
          },
          "metadata": {},
          "execution_count": 27
        }
      ]
    },
    {
      "cell_type": "markdown",
      "metadata": {
        "id": "UeiVHDA3vAX5"
      },
      "source": [
        "**Task 14** - Create a visualization to show the distribution of **Parents/Children_Aboard**.\n",
        "\n",
        "*This task will not be autograded - but it is part of completing the challenge.*"
      ]
    },
    {
      "cell_type": "code",
      "metadata": {
        "id": "jRvLPu2_vlZG",
        "colab": {
          "base_uri": "https://localhost:8080/",
          "height": 458
        },
        "outputId": "df5a116b-b720-47b4-ae6c-082e1c7c7bed"
      },
      "source": [
        "# # ### YOUR CODE HERE ###\n",
        "import matplotlib.pyplot as plt\n",
        "from matplotlib.ticker import PercentFormatter\n",
        "\n",
        "df = pd.DataFrame(Titanic['Parents/Children_Aboard'].value_counts())\n",
        "\n",
        "df = df.sort_values(by='Parents/Children_Aboard',ascending=False)\n",
        "\n",
        "df[\"cumpercentage\"] = df['Parents/Children_Aboard'].cumsum()/df['Parents/Children_Aboard'].sum()*100\n",
        "\n",
        "\n",
        "fig, ax = plt.subplots(figsize=(10,7))\n",
        "\n",
        "# PARETO DIAGRAM\n",
        "\n",
        "#Bar Chart\n",
        "ax.bar(df.index, df['Parents/Children_Aboard'], color=\"C0\")\n",
        "ax.tick_params(axis=\"y\", colors=\"C0\")\n",
        "ax.set_title('Pareto Diagram of Parents/Children_Aboard')\n",
        "ax.set_ylabel('People With that Number of Kids')\n",
        "ax.set_xlabel('Number of Kids')\n",
        "\n",
        "#Percentage Line\n",
        "pareto = ax.twinx()\n",
        "pareto.plot(df.index, df[\"cumpercentage\"], color=\"green\", marker=\"o\", ms=7)\n",
        "pareto.yaxis.set_major_formatter(PercentFormatter())\n",
        "pareto.tick_params(axis=\"y\", colors=\"green\")\n",
        "\n",
        "plt.show()"
      ],
      "execution_count": 32,
      "outputs": [
        {
          "output_type": "display_data",
          "data": {
            "image/png": "[encoded data removed]",
            "text/plain": [
              "<Figure size 720x504 with 2 Axes>"
            ]
          },
          "metadata": {
            "needs_background": "light"
          }
        }
      ]
    },
    {
      "cell_type": "code",
      "metadata": {
        "colab": {
          "base_uri": "https://localhost:8080/",
          "height": 334
        },
        "id": "onMiVqKw29Bu",
        "outputId": "85609be5-e210-4234-fa42-df60a7f8bc75"
      },
      "source": [
        "import seaborn as sns\n",
        "\n",
        "sns.distplot(Titanic['Parents/Children_Aboard']);"
      ],
      "execution_count": 33,
      "outputs": [
        {
          "output_type": "stream",
          "name": "stderr",
          "text": [
            "/usr/local/lib/python3.7/dist-packages/seaborn/distributions.py:2619: FutureWarning: `distplot` is a deprecated function and will be removed in a future version. Please adapt your code to use either `displot` (a figure-level function with similar flexibility) or `histplot` (an axes-level function for histograms).\n",
            "  warnings.warn(msg, FutureWarning)\n"
          ]
        },
        {
          "output_type": "display_data",
          "data": {
            "image/png": "[encoded data removed]",
            "text/plain": [
              "<Figure size 432x288 with 1 Axes>"
            ]
          },
          "metadata": {
            "needs_background": "light"
          }
        }
      ]
    },
    {
      "cell_type": "markdown",
      "metadata": {
        "id": "oOAPAy18vF9w"
      },
      "source": [
        "Describe the distribution of Parents/Children_Aboard."
      ]
    },
    {
      "cell_type": "markdown",
      "metadata": {
        "id": "uBVSewujjgpi"
      },
      "source": [
        "YOUR ANSWER HERE\n",
        "\n",
        "<font color='purple'>**The distribution of the Parents/Children_Aboard column is right skewed with a Mean>Median>Mode. We can also tell form the pareto chart that more than 75% of the people doesn't have any children aboard.**</font>"
      ]
    }
  ]
}