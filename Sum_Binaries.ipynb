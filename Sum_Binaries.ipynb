{
  "nbformat": 4,
  "nbformat_minor": 0,
  "metadata": {
    "colab": {
      "name": "Sum_Binaries.ipynb",
      "provenance": [],
      "collapsed_sections": []
    },
    "kernelspec": {
      "name": "python3",
      "display_name": "Python 3"
    },
    "language_info": {
      "name": "python"
    }
  },
  "cells": [
    {
      "cell_type": "code",
      "source": [
        "def solution(a, b):\n",
        "    \n",
        "    decode_table = []\n",
        "    for i in range(max([len(a), len(b)])+1):\n",
        "        decode_table.append(2**i)\n",
        "          \n",
        "    decode_a = sum([decode_table[i] for i,n in enumerate(a[::-1]) if n=='1'])\n",
        "    decode_b = sum([decode_table[i] for i,n in enumerate(b[::-1]) if n=='1'])\n",
        "    ab_sum = decode_a + decode_b\n",
        "   \n",
        "    encode_table = []\n",
        "    exp = 0\n",
        "    t = 2\n",
        "    while (t**exp) <= ab_sum:\n",
        "        encode_table.append(t**exp)\n",
        "        exp += 1\n",
        "\n",
        "    encode_ab_sum = []\n",
        "    for i in encode_table[::-1]:\n",
        "        if i <= ab_sum:\n",
        "            ab_sum -= i\n",
        "            encode_ab_sum.append('1')\n",
        "        else:\n",
        "            encode_ab_sum.append('0')    \n",
        "    \n",
        "    \n",
        "    return ''.join(encode_ab_sum)"
      ],
      "metadata": {
        "id": "67rkOAG4sIhS"
      },
      "execution_count": null,
      "outputs": []
    }
  ]
}