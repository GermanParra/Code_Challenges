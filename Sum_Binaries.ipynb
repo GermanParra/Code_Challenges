{
  "nbformat": 4,
  "nbformat_minor": 0,
  "metadata": {
    "colab": {
      "name": "Sum_Binaries.ipynb",
      "provenance": [],
      "collapsed_sections": []
    },
    "kernelspec": {
      "name": "python3",
      "display_name": "Python 3"
    },
    "language_info": {
      "name": "python"
    }
  },
  "cells": [
    {
      "cell_type": "code",
      "source": [
        "# Without Build in functions\n",
        "\n",
        "def solution(a, b):\n",
        "          \n",
        "    decode_a = sum([2**i for i,n in enumerate(a[::-1]) if n=='1'])\n",
        "    decode_b = sum([2**i for i,n in enumerate(b[::-1]) if n=='1'])\n",
        "    ab_sum = decode_a + decode_b\n",
        "   \n",
        "    encode_table = []\n",
        "    exp = 0\n",
        "    t = 2\n",
        "    while (t**exp) <= ab_sum:\n",
        "        encode_table.append(t**exp)\n",
        "        exp += 1\n",
        "\n",
        "    encode_ab_sum = []\n",
        "    for i in encode_table[::-1]:\n",
        "        if i <= ab_sum:\n",
        "            ab_sum -= i\n",
        "            encode_ab_sum.append('1')\n",
        "        else:\n",
        "            encode_ab_sum.append('0')    \n",
        "    \n",
        "    \n",
        "    return ''.join(encode_ab_sum)"
      ],
      "metadata": {
        "id": "67rkOAG4sIhS"
      },
      "execution_count": 329,
      "outputs": []
    },
    {
      "cell_type": "code",
      "source": [
        "# With Build in functions\n",
        "def solution(a, b):\n",
        "    return bin(int(a,2) + int(b,2))[2:]"
      ],
      "metadata": {
        "id": "C6uI7hi83BPa"
      },
      "execution_count": 330,
      "outputs": []
    },
    {
      "cell_type": "code",
      "source": [
        "# Simplified With bin()\n",
        "def build_in_solution(a, b):\n",
        "    \n",
        "    decode_a = sum([2**i for i,n in enumerate(a[::-1]) if n=='1'])\n",
        "    decode_b = sum([2**i for i,n in enumerate(b[::-1]) if n=='1'])\n",
        "    ab_sum = decode_a + decode_b\n",
        "\n",
        "    return bin(ab_sum)[2:]"
      ],
      "metadata": {
        "id": "MBYPPFCTllxm"
      },
      "execution_count": 331,
      "outputs": []
    },
    {
      "cell_type": "code",
      "source": [
        "# Complex but efficient (Codesignal Winner)\n",
        "\n",
        "def solution(a, b):\n",
        "  if (len(a)==0) and (len(b)==0):\n",
        "      return ''\n",
        "  elif (len(a)==0) and (len(b)!=0):\n",
        "      return str(int(b))\n",
        "  elif (len(a)!=0) and (len(b)==0):\n",
        "      return str(int(a))\n",
        "      \n",
        "  a = a[::-1]\n",
        "  b = b[::-1]\n",
        "\n",
        "  if len(a) > len(b):\n",
        "    if a[len(b):].count('0') != 0:\n",
        "      update_index = a.index('0',len(b))\n",
        "      longer_num = a\n",
        "    else:\n",
        "      update_index = None\n",
        "      longer_num = a\n",
        "  elif len(b) > len(a):\n",
        "    if b[len(a):].count('0') != 0:\n",
        "      update_index = b.index('0',len(a))\n",
        "      longer_num = b\n",
        "    else:\n",
        "      update_index = None\n",
        "      longer_num = b\n",
        "  else:\n",
        "      update_index = None\n",
        "      longer_num = a\n",
        "\n",
        "\n",
        "  if update_index:\n",
        "    pairs = [[int(b[i])] if i not in range(len(a)) else [int(a[i])] if i not in range(len(b)) else [int(a[i]),int(b[i])] for i in range(update_index+1)]\n",
        "  elif len(a) == len(b):\n",
        "    pairs = [[int(a[i]),int(b[i])] for i in range(len(a))]\n",
        "  else:\n",
        "    pairs = [[int(b[i])] if i not in range(len(a)) else [int(a[i])] if i not in range(len(b)) else [int(a[i]),int(b[i])] for i in range(len(longer_num))]\n",
        "    \n",
        "\n",
        "  for i,p in enumerate(pairs):\n",
        "    if len(p)>1 and sum(p) == 0:\n",
        "      pairs[i] = 0\n",
        "    elif len(p)>1 and sum(p) == 2:\n",
        "      pairs[i] = 0\n",
        "      if i+1>len(pairs)-1:\n",
        "        pairs.append([1])\n",
        "      else:\n",
        "        pairs[i+1].append(1)\n",
        "    elif len(p)>1 and sum(p) == 3:\n",
        "      pairs[i] = 1\n",
        "      if i+1>len(pairs)-1:\n",
        "        pairs.append([1])\n",
        "      else:\n",
        "        pairs[i+1].append(1)\n",
        "    else:\n",
        "      pairs[i] = sum(p)\n",
        "\n",
        "  updates = ''.join([str(i) for i in pairs])\n",
        "\n",
        "\n",
        "  if len(a) == len(b):\n",
        "    r = str(int(updates[::-1]))\n",
        "    return r\n",
        "  elif update_index == None:\n",
        "    r = str(int(updates[::-1]))\n",
        "    return r\n",
        "  else:\n",
        "    final = updates + longer_num[update_index+1:]\n",
        "    r = str(int(final[::-1]))\n",
        "    return r\n",
        "  "
      ],
      "metadata": {
        "id": "BzyCju3Putzd"
      },
      "execution_count": 332,
      "outputs": []
    },
    {
      "cell_type": "code",
      "source": [
        "%%time\n",
        "solution(a,b)"
      ],
      "metadata": {
        "colab": {
          "base_uri": "https://localhost:8080/",
          "height": 70
        },
        "id": "BhgFlfkUEQ-z",
        "outputId": "59d339a3-341d-4fe6-a2ae-b7e111c1c729"
      },
      "execution_count": 326,
      "outputs": [
        {
          "output_type": "stream",
          "name": "stdout",
          "text": [
            "CPU times: user 14 µs, sys: 1 µs, total: 15 µs\n",
            "Wall time: 20 µs\n"
          ]
        },
        {
          "output_type": "execute_result",
          "data": {
            "application/vnd.google.colaboratory.intrinsic+json": {
              "type": "string"
            },
            "text/plain": [
              "'10'"
            ]
          },
          "metadata": {},
          "execution_count": 326
        }
      ]
    },
    {
      "cell_type": "code",
      "source": [
        "%%time\n",
        "build_in_solution(a, b)"
      ],
      "metadata": {
        "colab": {
          "base_uri": "https://localhost:8080/",
          "height": 70
        },
        "id": "6qYnyfviLJL-",
        "outputId": "1251859c-a006-4ef4-b71d-682fd4c4b357"
      },
      "execution_count": 327,
      "outputs": [
        {
          "output_type": "stream",
          "name": "stdout",
          "text": [
            "CPU times: user 17 µs, sys: 0 ns, total: 17 µs\n",
            "Wall time: 20.7 µs\n"
          ]
        },
        {
          "output_type": "execute_result",
          "data": {
            "application/vnd.google.colaboratory.intrinsic+json": {
              "type": "string"
            },
            "text/plain": [
              "'10'"
            ]
          },
          "metadata": {},
          "execution_count": 327
        }
      ]
    },
    {
      "cell_type": "code",
      "source": [
        "build_in_solution(a, b) == solution(a,b)"
      ],
      "metadata": {
        "colab": {
          "base_uri": "https://localhost:8080/"
        },
        "id": "vs6o70KoOPoG",
        "outputId": "c6c29259-9391-4934-8833-c31c0793960d"
      },
      "execution_count": 328,
      "outputs": [
        {
          "output_type": "execute_result",
          "data": {
            "text/plain": [
              "True"
            ]
          },
          "metadata": {},
          "execution_count": 328
        }
      ]
    }
  ]
}