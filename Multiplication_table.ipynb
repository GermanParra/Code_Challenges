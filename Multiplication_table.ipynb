{
  "nbformat": 4,
  "nbformat_minor": 0,
  "metadata": {
    "colab": {
      "name": "Multiplication_table.ipynb",
      "provenance": [],
      "collapsed_sections": []
    },
    "kernelspec": {
      "name": "python3",
      "display_name": "Python 3"
    },
    "language_info": {
      "name": "python"
    }
  },
  "cells": [
    {
      "cell_type": "markdown",
      "source": [
        "**Description**\n",
        "Write a function that builds an n x n multiplication table.\n",
        "\n",
        "The result will be a 2D array. The 0th row and column of the table begin with 1 and end with n.\n",
        "\n",
        "**Example**\n",
        "**Input:**\n",
        "\n",
        "n == 4 \\\n",
        "\\\n",
        "**Output:**\n",
        "\n",
        "[\n",
        "    [1, 2,  3,  4],\\\n",
        "    [2, 4,  6,  8],\\\n",
        "    [3, 6,  9, 12],\\\n",
        "    [4, 8, 12, 16]\n",
        "]\\\n",
        "\\\n",
        "**Input/Output**\\\n",
        "[execution time limit] 4 seconds (py3)\n",
        "\n",
        "[input] integer n\n",
        "\n",
        "The square dimension of the table.\n",
        "\n",
        "Constraints\n",
        "\n",
        "1 <= n <= 100\n",
        "\n",
        "[output] array.array.integer\n",
        "\n",
        "The multiplication table."
      ],
      "metadata": {
        "id": "UCk43MqSJDlC"
      }
    },
    {
      "cell_type": "code",
      "source": [
        "def solution(n):\n",
        "    table = []\n",
        "    first_row = list(range(1,n+1))\n",
        "    x = 1\n",
        "    while len(table) != n:\n",
        "        row = [i*x for i in first_row]\n",
        "        table.append(row)\n",
        "        x += 1\n",
        "    return table"
      ],
      "metadata": {
        "id": "67rkOAG4sIhS"
      },
      "execution_count": null,
      "outputs": []
    }
  ]
}